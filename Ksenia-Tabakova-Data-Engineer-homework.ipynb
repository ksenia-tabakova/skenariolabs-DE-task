{
 "cells": [
  {
   "cell_type": "markdown",
   "id": "2260b0db-e990-409c-a22b-2c75bd1d1ad8",
   "metadata": {},
   "source": [
    "# Skenariolab data Engiiner homework project"
   ]
  },
  {
   "cell_type": "markdown",
   "id": "498704ce-2a6a-4b01-8369-a784ba074c02",
   "metadata": {},
   "source": [
    "This task was pretty fun and actually more timeconsuming that I initially thought. I tried to utilize postgis for extra points, but I faced issues with builging postgis extension for postgres and decided to move on only with Python, which worked out in the end."
   ]
  },
  {
   "cell_type": "markdown",
   "id": "1102a21b-2871-40d3-92ea-0a1589705a6f",
   "metadata": {},
   "source": [
    "Let's start withy importing necessary libraries"
   ]
  },
  {
   "cell_type": "code",
   "execution_count": 1,
   "id": "f09bea5f-ceb5-4865-80b3-c374f5eb052c",
   "metadata": {},
   "outputs": [],
   "source": [
    "import json, requests  #to query data and work with jsons\n",
    "import geojson # to dump data to geojson file\n",
    "import xml.etree.ElementTree as ET #to parse cadastral maps data\n",
    "from shapely.geometry import Polygon, Point  #to work with polygons (areas) and points (buildings)\n",
    "from geojson import Feature, FeatureCollection #to output work to geojson\n",
    "from OSMPythonTools.overpass import Overpass #to query for childcare around the selected building with apartment on sale\n",
    "import haversine as hs #to convert degrees to distances\n",
    "from haversine import Unit #to convert degrees to distances in meters\n",
    "#And two universal helpers - pandas and numpy\n",
    "import pandas as pd\n",
    "import numpy as np"
   ]
  },
  {
   "cell_type": "markdown",
   "id": "91d94466-33ad-48f6-8f16-adb8e3dd6153",
   "metadata": {},
   "source": [
    "## 1 Kiinteistomaailma data"
   ]
  },
  {
   "cell_type": "markdown",
   "id": "431c39c4-de3d-4de5-8e22-d496520d6a53",
   "metadata": {},
   "source": [
    "### 1.1 Fetching Kiinteistomaailma data and select an apartment on sale\n",
    "Naturally, I decided to select an apartment in my own neighborhood - Kannelmaki. Luckily, one of the apartments in our asuntoyhtio is on sale."
   ]
  },
  {
   "cell_type": "code",
   "execution_count": 2,
   "id": "e4a1a070-eec5-4b4a-94d3-827345f3b146",
   "metadata": {},
   "outputs": [],
   "source": [
    "address = {'street_address': 'Kanneltie 6', 'city': 'Helsinki'}\n",
    "KM_URL= \"https://vilpas.kiinteistomaailma.fi/export/km/listings/baseline.json\"\n",
    "#Fetch KM listings:\n",
    "listings = requests.get(KM_URL)\n",
    "listings_text = listings.text\n",
    "listings_data = json.loads(listings_text)\n",
    "#The nature of the task is such that I checked beforehand that there is at least one apartment available for sale.\n",
    "#Therefore I know that listings_data will have elements in it and I can juct pick 1st element\n",
    "apartment = list(filter(lambda a_listing: (a_listing['address'] == address['street_address']) & \n",
    "                        (a_listing['city']==address['city']), listings_data))[0]"
   ]
  },
  {
   "cell_type": "code",
   "execution_count": 3,
   "id": "d8bfca77-d9c3-435d-bbc1-84fb5ac3b0f3",
   "metadata": {},
   "outputs": [
    {
     "name": "stdout",
     "output_type": "stream",
     "text": [
      "Correct apartment is found:  True\n"
     ]
    }
   ],
   "source": [
    "# Let's check that found apartment is indeed from Kanneltie 6, Helsinki\n",
    "\n",
    "print('Correct apartment is found: ', apartment['address']==address['street_address'] and apartment['city']==address['city'])"
   ]
  },
  {
   "cell_type": "code",
   "execution_count": 4,
   "id": "774128b7-6a22-4592-89eb-af2d556616c2",
   "metadata": {},
   "outputs": [],
   "source": [
    "#getting apartment coordinates - will need to calculate distance to a kindergarden\n",
    "apartment_lat = apartment['latitude']\n",
    "apartment_lon = apartment['longitude']"
   ]
  },
  {
   "cell_type": "code",
   "execution_count": 5,
   "id": "e4833b18-ea5b-4d5b-86cd-489a3eb95915",
   "metadata": {},
   "outputs": [
    {
     "name": "stdout",
     "output_type": "stream",
     "text": [
      "[{'name': 'Päiväkoti  Kannelmäki', 'distance': 0.15}, {'name': 'Päiväkoti Vanhainen', 'distance': 0.35}]\n"
     ]
    }
   ],
   "source": [
    "daycares_KM = apartment['dayCare']\n",
    "print(daycares_KM)"
   ]
  },
  {
   "cell_type": "markdown",
   "id": "588642b5-e5b4-4c64-8bf2-fce68a18e08b",
   "metadata": {
    "tags": []
   },
   "source": [
    "There are at least these two daycares nearby (I can confirm it as well)."
   ]
  },
  {
   "cell_type": "markdown",
   "id": "eed97421-b6ab-45e8-a031-3e1b6ac70d2d",
   "metadata": {},
   "source": [
    "### 1.2 Query OSM for daycares nearby\n",
    "The Overpass API is a read-only API for OSM map data. \n",
    "There are many Python wrappers for it in existtence. I have decided to use [OSMPythonTools](https://wiki.openstreetmap.org/wiki/OSMPythonTools) - it is referenced at the OSM wiki and looks straightforward to use."
   ]
  },
  {
   "cell_type": "code",
   "execution_count": 6,
   "id": "ae19255d-9688-4dcb-8e8f-73ce6e12b591",
   "metadata": {},
   "outputs": [
    {
     "name": "stdout",
     "output_type": "stream",
     "text": [
      "constructed OSm query:  node(around:700.00, 60.2410462, 24.8809991)[\"amenity\"=\"kindergarten\"];out body;\n",
      "{'type': 'node', 'id': 4386743153, 'lat': 60.2387728, 'lon': 24.8840843, 'tags': {'addr:city': 'Helsinki', 'addr:housenumber': '3', 'addr:postcode': '00420', 'addr:street': 'Hanuripolku', 'amenity': 'kindergarten', 'name': 'Suomalais-ranskalainen päiväkoti Les Galopins', 'phone': '09-440407', 'website': 'http://www.lesgalopinspk.com/'}}\n",
      "{'type': 'node', 'id': 4386751391, 'lat': 60.2398472, 'lon': 24.8796532, 'tags': {'addr:city': 'Helsinki', 'addr:housenumber': '5', 'addr:postcode': '00420', 'addr:street': 'Kaustisenpolku', 'amenity': 'kindergarten', 'name': 'Päiväkoti Kannel'}}\n",
      "{'type': 'node', 'id': 4386792543, 'lat': 60.2427708, 'lon': 24.8771044, 'tags': {'addr:city': 'Helsinki', 'addr:housenumber': '10', 'addr:postcode': '00420', 'addr:street': 'Soittajantie', 'amenity': 'kindergarten', 'email': 'pk.vanhainen@hel.fi', 'fax': '+358 9 310 41608', 'name': 'Päiväkoti Vanhainen', 'phone': '+358 9 310 41606', 'website': 'https://www.hel.fi/helsinki/fi/kasvatus-ja-koulutus/paivahoito/paivakotihoito/paivakodit/paivakoti-vanhainen'}}\n",
      "constructed OSm query:  node(around:700.00, 60.2410462, 24.8809991)[\"amenity\"=\"nursery\"];out body;\n",
      "constructed OSm query:  node(around:700.00, 60.2410462, 24.8809991)[\"amenity\"=\"childcare\"];out body;\n"
     ]
    }
   ],
   "source": [
    "overpass = Overpass()\n",
    "# Construct query for Overpass\n",
    "# I will be searching for all childcare amenities in the radius of twice larger than mentioned in the KM listing.\n",
    "# That would be awful though if KM lists information with such large errors.\n",
    "\n",
    "#define radius twice larger than the most far listed daycare:\n",
    "radius = str(max([a_daycare['distance'] for a_daycare in daycares_KM])*1000*2) \n",
    "\n",
    "# OSM wiki mentions three possible tags for a childcare amenity:\n",
    "childcare_tags = ['kindergarten','nursery','childcare']\n",
    "\n",
    "# Query OSM for every possible tag\n",
    "daycares_OSM = [] #will store here all found childcare amenities\n",
    "for a_tag in childcare_tags:\n",
    "    a_tag_query = ''.join(['node(around:',radius,'0, ',\n",
    "                           str(apartment_lat),', ', \n",
    "                           str(apartment_lon),')[\"amenity\"=\"', a_tag, '\"];', \n",
    "                           'out body;'])\n",
    "    print(\"constructed OSm query: \", a_tag_query)\n",
    "    osm_output = overpass.query(a_tag_query).toJSON()[\"elements\"]\n",
    "    try: # try if there are any childcares found\n",
    "        for an_output in osm_output:\n",
    "            print(an_output)\n",
    "            daycares_OSM.append({'tags': {\n",
    "                        \"name\": an_output['tags']['name'], \n",
    "                        \"latitude\":  an_output['lat'], \n",
    "                        \"longitude\": an_output['lon']}})\n",
    "    except: #if not found, proceed to the next tag\n",
    "        continue\n"
   ]
  },
  {
   "cell_type": "code",
   "execution_count": 7,
   "id": "545f4388-5b3f-4f6c-ab2c-785736111029",
   "metadata": {},
   "outputs": [
    {
     "data": {
      "text/plain": [
       "[{'tags': {'name': 'Suomalais-ranskalainen päiväkoti Les Galopins',\n",
       "   'latitude': 60.2387728,\n",
       "   'longitude': 24.8840843}},\n",
       " {'tags': {'name': 'Päiväkoti Kannel',\n",
       "   'latitude': 60.2398472,\n",
       "   'longitude': 24.8796532}},\n",
       " {'tags': {'name': 'Päiväkoti Vanhainen',\n",
       "   'latitude': 60.2427708,\n",
       "   'longitude': 24.8771044}}]"
      ]
     },
     "execution_count": 7,
     "metadata": {},
     "output_type": "execute_result"
    }
   ],
   "source": [
    "# Print all found childcares\n",
    "daycares_OSM"
   ]
  },
  {
   "cell_type": "markdown",
   "id": "c0d7698a-56c3-4f8d-a24b-affb29a99faf",
   "metadata": {},
   "source": [
    "### 1.3 Check if listed distance to the childcare amenities is correct"
   ]
  },
  {
   "cell_type": "code",
   "execution_count": 8,
   "id": "b349d5fb-b96b-4c51-b571-6f431371f89f",
   "metadata": {},
   "outputs": [
    {
     "name": "stdout",
     "output_type": "stream",
     "text": [
      "Daycare found:  Päiväkoti Vanhainen\n"
     ]
    }
   ],
   "source": [
    "# Now let's compare KM listed childcares versus OSM found childcares. \n",
    "#And if there is a match - calculate distance to the apartment building\n",
    "distance_OSM=[]\n",
    "for a_daycare_OSM in daycares_OSM:\n",
    "    try:\n",
    "        if a_daycare_OSM['tags']['name'] in [ele['name'] for ele in daycares_KM]: #check for the match\n",
    "            print('Daycare found: ', a_daycare_OSM['tags']['name'])\n",
    "            distance_OSM.append({\n",
    "                'name': a_daycare_OSM['tags']['name'], \n",
    "                'distance': \n",
    "                hs.haversine((apartment_lat, apartment_lon),\n",
    "                             (a_daycare_OSM['tags']['latitude'],\n",
    "                              a_daycare_OSM['tags']['longitude']),\n",
    "                             unit = Unit.METERS)})\n",
    "            \n",
    "    except:\n",
    "        continue"
   ]
  },
  {
   "cell_type": "code",
   "execution_count": 9,
   "id": "b57add40-4759-4dae-b3e7-21c0e1638c24",
   "metadata": {},
   "outputs": [
    {
     "data": {
      "text/plain": [
       "[{'name': 'Päiväkoti Vanhainen', 'distance': 288.05942507370287}]"
      ]
     },
     "execution_count": 9,
     "metadata": {},
     "output_type": "execute_result"
    }
   ],
   "source": [
    "distance_OSM"
   ]
  },
  {
   "cell_type": "markdown",
   "id": "5e3c3211-eaf4-4a50-83dc-8236d7b7facb",
   "metadata": {},
   "source": [
    "It is worth to mention that OSM data depends on users and their input and can be incomplete or contain errors. In this case, OSM data does not contain information on the closest kindergarten 'Kannelmaki\". KM also didn't list paivakoti Kannel which is pretty close as well. But I got one match and will analyze it.\n",
    "\n",
    "According to OSM, distance to Päiväkoti Vanhainen is 288 meters which is less than 350m as per KM. However, Kanneltie 6 in fact has several buildings that belong to the same street number 6. For more precise distance calculations I would need to know which building exactly apartment belongs to and query for the building with correct entrance number. "
   ]
  },
  {
   "cell_type": "markdown",
   "id": "6318b03c-efae-4323-8f21-830a9be22db8",
   "metadata": {},
   "source": [
    "## 2 Cadastral maps"
   ]
  },
  {
   "cell_type": "markdown",
   "id": "b2f90765-0139-451f-85cc-3f7b4e8e744b",
   "metadata": {
    "tags": []
   },
   "source": [
    "### 2.1 Read maps\n",
    "I have tried my best to read data with geopandas that should support reading gml files, but there was a constant issue with fiona package and very limited wisdom on it online. I have turned to the more generic XML parsing instead.\n",
    "The whole following code can be expanded to read a list of data files from a given folder location(s). For this I would need to look more into naming convention of the those maps so that it would be possible know which file is cadastral index map and which is topographic database. "
   ]
  },
  {
   "cell_type": "code",
   "execution_count": 10,
   "id": "7f4a9ba0-ab6d-4bdf-b881-d5a8cd7c7578",
   "metadata": {},
   "outputs": [],
   "source": [
    "# Read both files and fetch root of the tree\n",
    "cadastral_map_root = ET.parse('L4134A.xml').getroot()\n",
    "topography_map_root = ET.parse('L4134L.xml').getroot()"
   ]
  },
  {
   "cell_type": "markdown",
   "id": "3b1f6401-5c91-465d-ab00-eab43bb1b1e5",
   "metadata": {},
   "source": [
    "### 2.2. Topographic Database map data - store buildings' coordinates"
   ]
  },
  {
   "cell_type": "markdown",
   "id": "ebe18cc2-7a85-4128-a14e-41e739c7b0bf",
   "metadata": {},
   "source": [
    "I have decided to treat buildings as points - I will be checking if a certain building belong to a cadastral area polygon (since in the topography map buildings are not attributed to any area)"
   ]
  },
  {
   "cell_type": "code",
   "execution_count": 11,
   "id": "14a76385-1ee5-456d-b8aa-dbc7b48967ed",
   "metadata": {},
   "outputs": [
    {
     "data": {
      "text/html": [
       "<div>\n",
       "<style scoped>\n",
       "    .dataframe tbody tr th:only-of-type {\n",
       "        vertical-align: middle;\n",
       "    }\n",
       "\n",
       "    .dataframe tbody tr th {\n",
       "        vertical-align: top;\n",
       "    }\n",
       "\n",
       "    .dataframe thead th {\n",
       "        text-align: right;\n",
       "    }\n",
       "</style>\n",
       "<table border=\"1\" class=\"dataframe\">\n",
       "  <thead>\n",
       "    <tr style=\"text-align: right;\">\n",
       "      <th></th>\n",
       "      <th>latitudes</th>\n",
       "      <th>longitudes</th>\n",
       "    </tr>\n",
       "  </thead>\n",
       "  <tbody>\n",
       "    <tr>\n",
       "      <th>0</th>\n",
       "      <td>380422.735</td>\n",
       "      <td>6689726.920</td>\n",
       "    </tr>\n",
       "    <tr>\n",
       "      <th>1</th>\n",
       "      <td>380340.144</td>\n",
       "      <td>6689749.616</td>\n",
       "    </tr>\n",
       "    <tr>\n",
       "      <th>2</th>\n",
       "      <td>380296.102</td>\n",
       "      <td>6689745.508</td>\n",
       "    </tr>\n",
       "    <tr>\n",
       "      <th>3</th>\n",
       "      <td>380401.928</td>\n",
       "      <td>6689784.208</td>\n",
       "    </tr>\n",
       "    <tr>\n",
       "      <th>4</th>\n",
       "      <td>380391.483</td>\n",
       "      <td>6689800.124</td>\n",
       "    </tr>\n",
       "  </tbody>\n",
       "</table>\n",
       "</div>"
      ],
      "text/plain": [
       "    latitudes   longitudes\n",
       "0  380422.735  6689726.920\n",
       "1  380340.144  6689749.616\n",
       "2  380296.102  6689745.508\n",
       "3  380401.928  6689784.208\n",
       "4  380391.483  6689800.124"
      ]
     },
     "execution_count": 11,
     "metadata": {},
     "output_type": "execute_result"
    }
   ],
   "source": [
    "# Search for all buildings ('rakennukset') on the map\n",
    "buildings = topography_map_root.findall('{http://xml.nls.fi/XML/Namespace/' \\\n",
    "                                        'Maastotietojarjestelma/SiirtotiedostonMalli/2011-02}rakennukset/')\n",
    "\n",
    "# Start collecting information on coordinates of buildings\n",
    "buildings_latitudes=[]\n",
    "buildings_longitudes=[]\n",
    "for a_building in buildings:\n",
    "    point = a_building.find('{http://xml.nls.fi/XML/Namespace/Maastotietojarjestelma/SiirtotiedostonMalli/2011-02}sijainti/' \\\n",
    "                            '{http://xml.nls.fi/XML/Namespace/Maastotietojarjestelma/SiirtotiedostonMalli/2011-02}Piste/' \\\n",
    "                            '{http://www.opengis.net/gml}pos') \\\n",
    "                            .text.split()[:-1]\n",
    "    point = [float(a_coordinate) for a_coordinate in point] # convert to float\n",
    "    buildings_latitudes.append(point[0])\n",
    "    buildings_longitudes.append(point[1])\n",
    "    \n",
    "buildings_coordinates_df = pd.DataFrame(list(zip(buildings_latitudes,buildings_longitudes)),\n",
    "                                        columns=['latitudes','longitudes']) #store coordinates as a dataframe\n",
    "buildings_coordinates_df.head()"
   ]
  },
  {
   "cell_type": "markdown",
   "id": "1c2235d9-4325-40ab-8147-6451f105aba2",
   "metadata": {},
   "source": [
    "### 2.3 Cadastral areas map data"
   ]
  },
  {
   "cell_type": "markdown",
   "id": "5c2a50fd-4dd6-4c39-9dd8-cb6df07b0eba",
   "metadata": {},
   "source": [
    "I did not figure out fast enough how to avoid brute-forcing tags during search through data - this is something that could be improved overall."
   ]
  },
  {
   "cell_type": "code",
   "execution_count": 12,
   "id": "f9c5a195-4204-4020-a73a-a858c510cb5c",
   "metadata": {},
   "outputs": [
    {
     "name": "stdout",
     "output_type": "stream",
     "text": [
      "kiinteistotunnus values stored as list of strings:  ['09143100010659', '09142100010003', '09140400010002', '09103499010000', '09289500020001']\n"
     ]
    }
   ],
   "source": [
    "# Find and store \"kiinteistotunnus\"\n",
    "cadastral_areas = cadastral_map_root.findall('{http://xml.nls.fi/XML/Namespace/Kiinteistorekisterikartta/2017-01}Palstat/' \\\n",
    "                                             '{http://xml.nls.fi/XML/Namespace/Kiinteistorekisterikartta/2017-01}Palsta/' \\\n",
    "                                             '{http://xml.nls.fi/XML/Namespace/Kiinteistorekisterikartta/2017-01}kiinteistotunnus') #note no backslash here\n",
    "\n",
    "cadastral_numbers = [area.text for area in cadastral_areas]\n",
    "print(\"kiinteistotunnus values stored as list of strings: \", cadastral_numbers[:5])\n",
    "# Fina all information on position - \"sijainti\"\n",
    "cadastral_positions = cadastral_map_root.findall('{http://xml.nls.fi/XML/Namespace/Kiinteistorekisterikartta/2017-01}Palstat/' \\\n",
    "                                                 '{http://xml.nls.fi/XML/Namespace/Kiinteistorekisterikartta/2017-01}Palsta/' \\\n",
    "                                                 '{http://xml.nls.fi/XML/Namespace/Kiinteistorekisterikartta/2017-01}sijainti')\n"
   ]
  },
  {
   "cell_type": "markdown",
   "id": "ddec59a3-a51c-42fa-930c-f92efbb6291d",
   "metadata": {},
   "source": [
    "I will be going over every cadastral area one by one and search for the buildings that belong to it."
   ]
  },
  {
   "cell_type": "code",
   "execution_count": 13,
   "id": "fb2116f0-42c7-4f5a-aed6-2e5660c0687f",
   "metadata": {},
   "outputs": [
    {
     "name": "stdout",
     "output_type": "stream",
     "text": [
      "Buildings found and atrributed: 11054\n"
     ]
    }
   ],
   "source": [
    "cadastral_polygons = []\n",
    "count = 0\n",
    "count_buildings = 0\n",
    "geojsonFeatures=[] # I will store here features\n",
    "\n",
    "for an_area in cadastral_positions:\n",
    "    \n",
    "    #1. get coordinates of the exterior line of cadastral area polygon\n",
    "    exterior=an_area.find('{http://www.opengis.net/gml}Surface/' \\\n",
    "                          '{http://www.opengis.net/gml}patches/' \\\n",
    "                          '{http://www.opengis.net/gml}PolygonPatch/' \\\n",
    "                          '{http://www.opengis.net/gml}exterior/' \\\n",
    "                          '{http://www.opengis.net/gml}LinearRing/' \\\n",
    "                          '{http://www.opengis.net/gml}posList')\n",
    "    exterior = exterior.text.split()\n",
    "    exterior = [float(ele) for ele in exterior] #convert to floats\n",
    "    iterator = iter(exterior)\n",
    "    exterior_coordinates = list(zip(iterator, iterator)) #convert exterior ring coordinates to the list of tuple - will is needed for shapely Polygon objects\n",
    "\n",
    "    #2. search for any possible holes in the cadastral area polygon\n",
    "    interiors = an_area.findall('{http://www.opengis.net/gml}Surface/{http://www.opengis.net/gml}patches/' \\\n",
    "                                '{http://www.opengis.net/gml}PolygonPatch/' \\\n",
    "                                '{http://www.opengis.net/gml}interior/' \\\n",
    "                                '{http://www.opengis.net/gml}LinearRing/' \\\n",
    "                                '{http://www.opengis.net/gml}posList')\n",
    "    \n",
    "    if len(interiors) > 0: #if there are holes in the polygon:\n",
    "        holes = [] #we need to store all coordinates for holes\n",
    "        for interior in interiors:\n",
    "            interior = [float(ele) for ele in interior.text.split()] \n",
    "            iterator = iter(interior)\n",
    "            interior_coordinates = list(zip(iterator,iterator)) #this will be a list of tuples as shapely Polygon expects\n",
    "            holes.append(interior_coordinates)\n",
    "        cadastral_polygon=Polygon(exterior_coordinates, holes) #constructing polygon with holes\n",
    "    else:\n",
    "        cadastral_polygon=Polygon(exterior_coordinates)  #constructiong poluygon without holes\n",
    "    cadastral_polygons.append(cadastral_polygon) #append a polygon to the list of polygons\n",
    "    \n",
    "    area = cadastral_polygon.area/10000 #area in ha - divided by 100x100m \n",
    "    \n",
    "    # Search for buildings that belong to every area\n",
    "    # Checking building one by one would be very very slow. \n",
    "    # To speed up the search I will only consider buildings that can be atrributed to a rectangle \n",
    "    # where any given polygon resides.\n",
    "    \n",
    "    # 1. find rectangle where polygon resides\n",
    "    (minx, miny, maxx, maxy) = cadastral_polygon.bounds \n",
    "    # 2. find all buildings in a given rectangle - store as dataframe\n",
    "    is_in_rectangle=buildings_coordinates_df.loc[(buildings_coordinates_df[\"latitudes\"] > minx) & \n",
    "                                                 (buildings_coordinates_df[\"latitudes\"] < maxx) & \n",
    "                                                 (buildings_coordinates_df[\"longitudes\"] > miny) &  \n",
    "                                                 (buildings_coordinates_df[\"longitudes\"] < maxy)]\n",
    "    # 3. check if buildings actually lay within a polygon\n",
    "    gids = []\n",
    "    for idx, row in is_in_rectangle.iterrows():\n",
    "        belongs = cadastral_polygon.contains(Point(row[\"latitudes\"], row[\"longitudes\"]))\n",
    "        if belongs:\n",
    "            count_buildings+=1\n",
    "            gids.append(buildings[idx].attrib[\"gid\"])\n",
    " \n",
    "    # Append to the list of geojson features - one feature per cadastral zone. Geometry as compulsory field is left empty. Rest of the information is stored in properties.\n",
    "    geojsonFeatures.append(Feature(geometry=[], properties={'gid': gids, \n",
    "                                                            \"kiinteistotunnus\": cadastral_numbers[count], \n",
    "                                                            \"area\": area}))\n",
    "    count += 1\n",
    "    \n",
    "print(\"Buildings found and atrributed:\", count_buildings)"
   ]
  },
  {
   "cell_type": "markdown",
   "id": "173025dd-d942-4070-9334-1721dc119e42",
   "metadata": {},
   "source": [
    "### 2.4 Data on apartment and geojson - how to store?"
   ]
  },
  {
   "cell_type": "markdown",
   "id": "ad30ea1a-0702-40d8-ac7d-9dbcdd3f67e7",
   "metadata": {},
   "source": [
    "I had two ideas on how to store Kiinteistomaailma data on apartment, especially thinking if this task would need to be scaled to all apartments on sale:\n",
    "1. Attach to a certain gid (basically, certain building) apartment info.\n",
    "2. Store as separate feature.\n",
    "\n",
    "With this in mind I tried to determine to which gid I could atribute the apartment. I have converted gid coordinates in meters to degrees:"
   ]
  },
  {
   "cell_type": "code",
   "execution_count": 14,
   "id": "03ebe185-4197-41b1-b20e-126e1f05040d",
   "metadata": {},
   "outputs": [
    {
     "name": "stdout",
     "output_type": "stream",
     "text": [
      "Converted coordinates:  382681.464419071 6680140.096565886\n"
     ]
    }
   ],
   "source": [
    "import pyproj\n",
    "from pyproj import Transformer\n",
    "transformer = Transformer.from_crs(\"EPSG:4326\", \"EPSG:3067\") #transfrom from degrees to meters\n",
    "apartment_lat_meters, apartment_lon_meters = transformer.transform(apartment_lat, apartment_lon)\n",
    "print(\"Converted coordinates: \", apartment_lat_meters, apartment_lon_meters)"
   ]
  },
  {
   "cell_type": "code",
   "execution_count": 15,
   "id": "d04fe186-4392-4b19-9184-bac4c6fd9ea5",
   "metadata": {},
   "outputs": [
    {
     "data": {
      "text/html": [
       "<div>\n",
       "<style scoped>\n",
       "    .dataframe tbody tr th:only-of-type {\n",
       "        vertical-align: middle;\n",
       "    }\n",
       "\n",
       "    .dataframe tbody tr th {\n",
       "        vertical-align: top;\n",
       "    }\n",
       "\n",
       "    .dataframe thead th {\n",
       "        text-align: right;\n",
       "    }\n",
       "</style>\n",
       "<table border=\"1\" class=\"dataframe\">\n",
       "  <thead>\n",
       "    <tr style=\"text-align: right;\">\n",
       "      <th></th>\n",
       "      <th>latitudes</th>\n",
       "      <th>longitudes</th>\n",
       "    </tr>\n",
       "  </thead>\n",
       "  <tbody>\n",
       "    <tr>\n",
       "      <th>30290</th>\n",
       "      <td>390982.128</td>\n",
       "      <td>6680139.842</td>\n",
       "    </tr>\n",
       "    <tr>\n",
       "      <th>32196</th>\n",
       "      <td>386946.128</td>\n",
       "      <td>6680140.426</td>\n",
       "    </tr>\n",
       "    <tr>\n",
       "      <th>34303</th>\n",
       "      <td>388640.298</td>\n",
       "      <td>6680139.981</td>\n",
       "    </tr>\n",
       "    <tr>\n",
       "      <th>34310</th>\n",
       "      <td>388598.559</td>\n",
       "      <td>6680140.248</td>\n",
       "    </tr>\n",
       "    <tr>\n",
       "      <th>40126</th>\n",
       "      <td>383708.901</td>\n",
       "      <td>6680139.679</td>\n",
       "    </tr>\n",
       "  </tbody>\n",
       "</table>\n",
       "</div>"
      ],
      "text/plain": [
       "        latitudes   longitudes\n",
       "30290  390982.128  6680139.842\n",
       "32196  386946.128  6680140.426\n",
       "34303  388640.298  6680139.981\n",
       "34310  388598.559  6680140.248\n",
       "40126  383708.901  6680139.679"
      ]
     },
     "execution_count": 15,
     "metadata": {},
     "output_type": "execute_result"
    }
   ],
   "source": [
    "buildings_coordinates_df[(round(buildings_coordinates_df['longitudes'])==round(apartment_lon_meters))]# "
   ]
  },
  {
   "cell_type": "markdown",
   "id": "7f8b3193-de49-483a-96a0-864959c3ba15",
   "metadata": {},
   "source": [
    "There is no match between converted coordinates in meters and cadastral map data - I tried to check with different rounding precision and also check if there is actually something reasonably nearby, but I don't think I can make any conclusion based on my result. Perhaps my assumption on projection for KM coordinates is wrong, but I couldn't find more information on the source of the data on coodinrates they provide.\n",
    "\n",
    "Considering this, KM data will be stored as separate feature since I couldn't attribute it to a particular building. I overall suspect some issue with coordinate conversion here - adding this info to a cadastrial area feature can result in mistake as well."
   ]
  },
  {
   "cell_type": "code",
   "execution_count": 16,
   "id": "2d40989b-19be-4e9c-9950-46e6f00752f5",
   "metadata": {},
   "outputs": [],
   "source": [
    "#make a Feature for KM apartment and append to Features list\n",
    "KM_feature = Feature(geometry=Point((apartment_lat, apartment_lon)), properties=apartment) \n",
    "geojsonFeatures.append(KM_feature)"
   ]
  },
  {
   "cell_type": "code",
   "execution_count": 17,
   "id": "b4b23b05-37fb-483e-97c4-01db494d1349",
   "metadata": {},
   "outputs": [],
   "source": [
    "geojsonCollection = FeatureCollection(geojsonFeatures)"
   ]
  },
  {
   "cell_type": "code",
   "execution_count": 18,
   "id": "a8a37b76-090d-465f-9166-3f0b514c45e4",
   "metadata": {},
   "outputs": [
    {
     "data": {
      "text/plain": [
       "{\"geometry\": null, \"properties\": {\"area\": 171.72254196960557, \"gid\": [\"960703220\", \"934878258\", \"414341982\", \"935164269\", \"414343050\", \"1974234564\", \"1930950695\", \"1930950685\", \"414364887\"], \"kiinteistotunnus\": \"09143100010659\"}, \"type\": \"Feature\"}"
      ]
     },
     "execution_count": 18,
     "metadata": {},
     "output_type": "execute_result"
    }
   ],
   "source": [
    "geojsonCollection[0]"
   ]
  },
  {
   "cell_type": "code",
   "execution_count": 19,
   "id": "fc9a654a-6747-44f4-941f-9d8d0b3a8732",
   "metadata": {},
   "outputs": [],
   "source": [
    "with open('cadastral_objects_info.geojson', 'w') as f:\n",
    "    geojson.dump(geojsonCollection, f)"
   ]
  },
  {
   "cell_type": "markdown",
   "id": "c2c2f758-9943-4b82-8886-823c9ff4ec9e",
   "metadata": {},
   "source": [
    "That's it folks!"
   ]
  },
  {
   "cell_type": "code",
   "execution_count": null,
   "id": "07a2b2dd-a917-4ec3-a0e6-82ba89369e1d",
   "metadata": {},
   "outputs": [],
   "source": []
  }
 ],
 "metadata": {
  "kernelspec": {
   "display_name": "Python 3 (ipykernel)",
   "language": "python",
   "name": "python3"
  },
  "language_info": {
   "codemirror_mode": {
    "name": "ipython",
    "version": 3
   },
   "file_extension": ".py",
   "mimetype": "text/x-python",
   "name": "python",
   "nbconvert_exporter": "python",
   "pygments_lexer": "ipython3",
   "version": "3.7.11"
  }
 },
 "nbformat": 4,
 "nbformat_minor": 5
}
